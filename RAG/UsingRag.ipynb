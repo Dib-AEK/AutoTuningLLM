{
 "cells": [
  {
   "cell_type": "markdown",
   "metadata": {},
   "source": [
    "# Using RAG Fine Tuning"
   ]
  },
  {
   "cell_type": "markdown",
   "metadata": {},
   "source": [
    "First, install dependencies"
   ]
  },
  {
   "cell_type": "code",
   "execution_count": null,
   "metadata": {},
   "outputs": [],
   "source": [
    "!pip install faiss-cpu sentence-transformers jina"
   ]
  },
  {
   "cell_type": "markdown",
   "metadata": {},
   "source": [
    "Imports libraries"
   ]
  },
  {
   "cell_type": "code",
   "execution_count": 1,
   "metadata": {},
   "outputs": [],
   "source": [
    "# from sentence_transformers import SentenceTransformer\n",
    "# from transformers import AutoTokenizer, AutoModel\n",
    "from transformers import AutoModel\n",
    "import faiss\n",
    "import numpy as np"
   ]
  },
  {
   "cell_type": "markdown",
   "metadata": {},
   "source": [
    "Load a pre-trained embedding model"
   ]
  },
  {
   "cell_type": "code",
   "execution_count": 2,
   "metadata": {},
   "outputs": [],
   "source": [
    "#model = SentenceTransformer('all-MiniLM-L6-v2')\n",
    "model_name = \"jinaai/jina-embeddings-v2-base-en\" #8192 sequence length\n",
    "model = AutoModel.from_pretrained(model_name, trust_remote_code=True) "
   ]
  },
  {
   "cell_type": "markdown",
   "metadata": {},
   "source": [
    "Embeddings"
   ]
  },
  {
   "cell_type": "code",
   "execution_count": null,
   "metadata": {},
   "outputs": [],
   "source": [
    "documents = [ \"Retrieval-Augmented Generation enhances LLMs with external knowledge.\",\n",
    "              \"FAISS is an efficient similarity search library for vector retrieval.\",\n",
    "              \"Sentence Transformers can convert text into numerical vector embeddings.\",\n",
    "              \"Vector databases allow fast and scalable similarity searches.\",\n",
    "              \"Deep learning models benefit from additional retrieved context.\",\n",
    "              \"Large language models are trained on large datasets.\",\n",
    "              \"Large language models can benifit from additional context from external sources.\",\n",
    "                ]"
   ]
  },
  {
   "cell_type": "code",
   "execution_count": 4,
   "metadata": {},
   "outputs": [],
   "source": [
    "embeddings = model.encode(documents,max_length=2048) "
   ]
  },
  {
   "cell_type": "code",
   "execution_count": 5,
   "metadata": {},
   "outputs": [
    {
     "name": "stdout",
     "output_type": "stream",
     "text": [
      "Embedding dimension: 768\n"
     ]
    }
   ],
   "source": [
    "dimension = embeddings.shape[1]\n",
    "print(f\"Embedding dimension: {dimension}\")"
   ]
  },
  {
   "cell_type": "markdown",
   "metadata": {},
   "source": [
    "Store embeddings in FAISS"
   ]
  },
  {
   "cell_type": "code",
   "execution_count": 6,
   "metadata": {},
   "outputs": [
    {
     "name": "stdout",
     "output_type": "stream",
     "text": [
      "FAISS index size: 7 vectors\n"
     ]
    }
   ],
   "source": [
    "index = faiss.IndexFlatL2(dimension) \n",
    "index.add(embeddings)\n",
    "print(f\"FAISS index size: {index.ntotal} vectors\")"
   ]
  },
  {
   "cell_type": "code",
   "execution_count": 7,
   "metadata": {},
   "outputs": [],
   "source": [
    "def retrieve_documents(query, top_k=2):\n",
    "    # Convert the query into an embedding\n",
    "    query_embedding = model.encode([query])\n",
    "\n",
    "    # Search the FAISS index\n",
    "    _, indices = index.search(np.array(query_embedding), top_k)\n",
    "\n",
    "    # Retrieve top-k matching documents\n",
    "    retrieved_docs = [documents[i] for i in indices[0]]\n",
    "    \n",
    "    return retrieved_docs"
   ]
  },
  {
   "cell_type": "markdown",
   "metadata": {},
   "source": [
    "Example query"
   ]
  },
  {
   "cell_type": "code",
   "execution_count": 8,
   "metadata": {},
   "outputs": [],
   "source": [
    "query = \"How does FAISS help with retrieval?\"\n",
    "retrieved = retrieve_documents(query, top_k=2)"
   ]
  },
  {
   "cell_type": "code",
   "execution_count": 10,
   "metadata": {},
   "outputs": [
    {
     "name": "stdout",
     "output_type": "stream",
     "text": [
      "Retrieved Documents:\n",
      "- FAISS is an efficient similarity search library for vector retrieval.\n",
      "- Retrieval-Augmented Generation enhances LLMs with external knowledge.\n"
     ]
    }
   ],
   "source": [
    "print(\"Retrieved Documents:\")\n",
    "for doc in retrieved:\n",
    "    print(\"-\", doc)"
   ]
  },
  {
   "cell_type": "code",
   "execution_count": null,
   "metadata": {},
   "outputs": [],
   "source": []
  },
  {
   "cell_type": "code",
   "execution_count": null,
   "metadata": {},
   "outputs": [],
   "source": []
  },
  {
   "cell_type": "code",
   "execution_count": null,
   "metadata": {},
   "outputs": [],
   "source": []
  }
 ],
 "metadata": {
  "kernelspec": {
   "display_name": "ML",
   "language": "python",
   "name": "python3"
  },
  "language_info": {
   "codemirror_mode": {
    "name": "ipython",
    "version": 3
   },
   "file_extension": ".py",
   "mimetype": "text/x-python",
   "name": "python",
   "nbconvert_exporter": "python",
   "pygments_lexer": "ipython3",
   "version": "3.9.20"
  }
 },
 "nbformat": 4,
 "nbformat_minor": 2
}
